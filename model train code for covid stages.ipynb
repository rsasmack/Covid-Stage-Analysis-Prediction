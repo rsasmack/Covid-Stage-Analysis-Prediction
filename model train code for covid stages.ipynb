{
 "cells": [
  {
   "cell_type": "code",
   "execution_count": 1,
   "id": "175b4337",
   "metadata": {},
   "outputs": [],
   "source": [
    "import pandas as pd\n",
    "import numpy as np\n",
    "import matplotlib.pyplot as plt"
   ]
  },
  {
   "cell_type": "code",
   "execution_count": 2,
   "id": "7ab1e5db",
   "metadata": {},
   "outputs": [],
   "source": [
    "data=pd.read_csv('covid.csv')"
   ]
  },
  {
   "cell_type": "code",
   "execution_count": 3,
   "id": "48226262",
   "metadata": {},
   "outputs": [
    {
     "name": "stdout",
     "output_type": "stream",
     "text": [
      "<class 'pandas.core.frame.DataFrame'>\n",
      "RangeIndex: 35000 entries, 0 to 34999\n",
      "Data columns (total 17 columns):\n",
      " #   Column            Non-Null Count  Dtype  \n",
      "---  ------            --------------  -----  \n",
      " 0   fever             35000 non-null  float64\n",
      " 1   cough             35000 non-null  int64  \n",
      " 2   fatigue           35000 non-null  int64  \n",
      " 3   loss_smell_taste  35000 non-null  int64  \n",
      " 4   nasal_congestion  35000 non-null  int64  \n",
      " 5   red_eyes          35000 non-null  int64  \n",
      " 6   sore_throat       35000 non-null  int64  \n",
      " 7   headache          35000 non-null  int64  \n",
      " 8   muscle_pain       35000 non-null  int64  \n",
      " 9   skin_rash         35000 non-null  int64  \n",
      " 10  vomiting          35000 non-null  int64  \n",
      " 11  diarrhea          35000 non-null  int64  \n",
      " 12  breathing_issue   35000 non-null  int64  \n",
      " 13  loss_apetite      35000 non-null  int64  \n",
      " 14  chest_pain        35000 non-null  int64  \n",
      " 15  age               35000 non-null  int64  \n",
      " 16  covid_level       35000 non-null  int64  \n",
      "dtypes: float64(1), int64(16)\n",
      "memory usage: 4.5 MB\n"
     ]
    }
   ],
   "source": [
    "data.info()"
   ]
  },
  {
   "cell_type": "code",
   "execution_count": 4,
   "id": "6b89fd95",
   "metadata": {},
   "outputs": [
    {
     "data": {
      "text/plain": [
       "Index(['fever', 'cough', 'fatigue', 'loss_smell_taste', 'nasal_congestion',\n",
       "       'red_eyes', 'sore_throat', 'headache', 'muscle_pain', 'skin_rash',\n",
       "       'vomiting', 'diarrhea', 'breathing_issue', 'loss_apetite', 'chest_pain',\n",
       "       'age', 'covid_level'],\n",
       "      dtype='object')"
      ]
     },
     "execution_count": 4,
     "metadata": {},
     "output_type": "execute_result"
    }
   ],
   "source": [
    "data.columns"
   ]
  },
  {
   "cell_type": "code",
   "execution_count": 5,
   "id": "65b53ef2",
   "metadata": {},
   "outputs": [],
   "source": [
    "#EDA"
   ]
  },
  {
   "cell_type": "code",
   "execution_count": 6,
   "id": "bbcf41a5",
   "metadata": {},
   "outputs": [
    {
     "data": {
      "text/plain": [
       "fever               False\n",
       "cough               False\n",
       "fatigue             False\n",
       "loss_smell_taste    False\n",
       "nasal_congestion    False\n",
       "red_eyes            False\n",
       "sore_throat         False\n",
       "headache            False\n",
       "muscle_pain         False\n",
       "skin_rash           False\n",
       "vomiting            False\n",
       "diarrhea            False\n",
       "breathing_issue     False\n",
       "loss_apetite        False\n",
       "chest_pain          False\n",
       "age                 False\n",
       "covid_level         False\n",
       "dtype: bool"
      ]
     },
     "execution_count": 6,
     "metadata": {},
     "output_type": "execute_result"
    }
   ],
   "source": [
    "data.isnull().any()"
   ]
  },
  {
   "cell_type": "code",
   "execution_count": 7,
   "id": "b8cd9335",
   "metadata": {},
   "outputs": [
    {
     "data": {
      "text/plain": [
       "fever               0\n",
       "cough               0\n",
       "fatigue             0\n",
       "loss_smell_taste    0\n",
       "nasal_congestion    0\n",
       "red_eyes            0\n",
       "sore_throat         0\n",
       "headache            0\n",
       "muscle_pain         0\n",
       "skin_rash           0\n",
       "vomiting            0\n",
       "diarrhea            0\n",
       "breathing_issue     0\n",
       "loss_apetite        0\n",
       "chest_pain          0\n",
       "age                 0\n",
       "covid_level         0\n",
       "dtype: int64"
      ]
     },
     "execution_count": 7,
     "metadata": {},
     "output_type": "execute_result"
    }
   ],
   "source": [
    "data.isnull().sum()"
   ]
  },
  {
   "cell_type": "code",
   "execution_count": 11,
   "id": "6d8cbec7",
   "metadata": {},
   "outputs": [
    {
     "data": {
      "image/png": "[encoded data removed]",
      "text/plain": [
       "<Figure size 720x360 with 1 Axes>"
      ]
     },
     "metadata": {
      "needs_background": "light"
     },
     "output_type": "display_data"
    }
   ],
   "source": [
    "plt.figure(figsize=(10,5))\n",
    "pd.value_counts(data['covid_level']).sort_index().plot.bar()\n",
    "plt.title(\"Covid stages\")\n",
    "plt.xlabel(\"covid level\")\n",
    "plt.ylabel(\"No of patients\")\n",
    "plt.xticks([0,1,2,3],['not affected','level1','level2','level3'],rotation=0)\n",
    "plt.show()"
   ]
  },
  {
   "cell_type": "code",
   "execution_count": 14,
   "id": "3283a0e1",
   "metadata": {},
   "outputs": [
    {
     "data": {
      "image/png": "[encoded data removed]",
      "text/plain": [
       "<Figure size 1152x432 with 1 Axes>"
      ]
     },
     "metadata": {
      "needs_background": "light"
     },
     "output_type": "display_data"
    }
   ],
   "source": [
    "plt.figure(figsize=(16,6))\n",
    "#pd.value_counts(data['age'][data['covid_level']!=0]).sort_index().plot.bar()\n",
    "data['age'][data['covid_level']!=0].plot.hist(rwidth=0.6)\n",
    "plt.title(\"Covid stages\")\n",
    "plt.xlabel(\"age group of people got affected\")\n",
    "plt.ylabel(\"No of patients\")\n",
    "plt.xticks(rotation=0)\n",
    "plt.show()"
   ]
  },
  {
   "cell_type": "code",
   "execution_count": 15,
   "id": "6925ca1a",
   "metadata": {},
   "outputs": [],
   "source": [
    "from sklearn.model_selection import train_test_split"
   ]
  },
  {
   "cell_type": "code",
   "execution_count": 16,
   "id": "74a61414",
   "metadata": {},
   "outputs": [],
   "source": [
    "X=data[['fever','cough','fatigue','loss_smell_taste','nasal_congestion','red_eyes','sore_throat','headache','muscle_pain','skin_rash','vomiting','diarrhea','breathing_issue','loss_apetite','chest_pain','age']]"
   ]
  },
  {
   "cell_type": "code",
   "execution_count": 17,
   "id": "2fea035e",
   "metadata": {},
   "outputs": [
    {
     "data": {
      "text/plain": [
       "(35000, 16)"
      ]
     },
     "execution_count": 17,
     "metadata": {},
     "output_type": "execute_result"
    }
   ],
   "source": [
    "X.shape"
   ]
  },
  {
   "cell_type": "code",
   "execution_count": 18,
   "id": "0a3f61d2",
   "metadata": {},
   "outputs": [],
   "source": [
    "y=data['covid_level']"
   ]
  },
  {
   "cell_type": "code",
   "execution_count": 19,
   "id": "da2795c4",
   "metadata": {},
   "outputs": [],
   "source": [
    "X_train,X_test,y_train,y_test=train_test_split(X,y,test_size=0.2)"
   ]
  },
  {
   "cell_type": "code",
   "execution_count": 20,
   "id": "61a39110",
   "metadata": {},
   "outputs": [
    {
     "name": "stdout",
     "output_type": "stream",
     "text": [
      "72.44285714285714\n"
     ]
    }
   ],
   "source": [
    "from sklearn.linear_model import LogisticRegression\n",
    "LR=LogisticRegression(random_state=0,max_iter=3000)\n",
    "LR.fit(X_train, y_train)\n",
    "p1=LR.score(X_test,y_test)*100\n",
    "print(p1)"
   ]
  },
  {
   "cell_type": "code",
   "execution_count": 21,
   "id": "7aaa06c1",
   "metadata": {},
   "outputs": [
    {
     "name": "stdout",
     "output_type": "stream",
     "text": [
      "61.75714285714285\n"
     ]
    }
   ],
   "source": [
    "from sklearn.ensemble import AdaBoostClassifier\n",
    "ADA=AdaBoostClassifier()\n",
    "ADA.fit(X_train, y_train)\n",
    "p2=ADA.score(X_test,y_test)*100\n",
    "print(p2)\n"
   ]
  },
  {
   "cell_type": "code",
   "execution_count": 22,
   "id": "5a075e89",
   "metadata": {},
   "outputs": [
    {
     "name": "stdout",
     "output_type": "stream",
     "text": [
      "99.64285714285714\n"
     ]
    }
   ],
   "source": [
    "from sklearn.ensemble import RandomForestClassifier\n",
    "RF=RandomForestClassifier(max_features='auto', n_estimators=200)\n",
    "RF.fit(X_train, y_train)\n",
    "p3=RF.score(X_test,y_test)*100\n",
    "print(p3)"
   ]
  },
  {
   "cell_type": "code",
   "execution_count": 23,
   "id": "b33fbf9f",
   "metadata": {},
   "outputs": [
    {
     "name": "stdout",
     "output_type": "stream",
     "text": [
      "99.58571428571429\n"
     ]
    }
   ],
   "source": [
    "from sklearn.tree import DecisionTreeClassifier\n",
    "DC=DecisionTreeClassifier()\n",
    "DC.fit(X_train, y_train)\n",
    "p4=DC.score(X_test,y_test)*100\n",
    "print(p4)"
   ]
  },
  {
   "cell_type": "code",
   "execution_count": 24,
   "id": "7a19b3fd",
   "metadata": {},
   "outputs": [
    {
     "name": "stdout",
     "output_type": "stream",
     "text": [
      "73.8\n"
     ]
    }
   ],
   "source": [
    "from sklearn.naive_bayes import GaussianNB\n",
    "GB=GaussianNB()\n",
    "GB.fit(X_train,y_train)\n",
    "p5=GB.score(X_test,y_test)*100\n",
    "print(p5)"
   ]
  },
  {
   "cell_type": "code",
   "execution_count": 25,
   "id": "b61ee937",
   "metadata": {},
   "outputs": [
    {
     "data": {
      "image/png": "[encoded data removed]",
      "text/plain": [
       "<Figure size 1080x432 with 1 Axes>"
      ]
     },
     "metadata": {
      "needs_background": "light"
     },
     "output_type": "display_data"
    }
   ],
   "source": [
    "a=[\"LogisticRegression\",\"AdaBoostClassifier\",\"RandomForestClassifier\",\"DecisionTreeClassifier\",\"GaussianNB\"]\n",
    "b=[p1,p2,p3,p4,p5]\n",
    "plt.figure(figsize=(15,6))\n",
    "plt.bar(a,b)\n",
    "plt.title(\"Accuracy Graph\")\n",
    "plt.xlabel(\"Algorithm\")\n",
    "plt.ylabel(\"percentage\")\n",
    "plt.show()"
   ]
  },
  {
   "cell_type": "code",
   "execution_count": 26,
   "id": "50937a81",
   "metadata": {},
   "outputs": [],
   "source": [
    "import pickle\n",
    "with open(\"model.pkl\",\"wb\") as f:\n",
    "    pickle.dump(RF,f)"
   ]
  },
  {
   "cell_type": "code",
   "execution_count": null,
   "id": "72cf0cad",
   "metadata": {},
   "outputs": [],
   "source": []
  }
 ],
 "metadata": {
  "kernelspec": {
   "display_name": "Python 3 (ipykernel)",
   "language": "python",
   "name": "python3"
  },
  "language_info": {
   "codemirror_mode": {
    "name": "ipython",
    "version": 3
   },
   "file_extension": ".py",
   "mimetype": "text/x-python",
   "name": "python",
   "nbconvert_exporter": "python",
   "pygments_lexer": "ipython3",
   "version": "3.7.5"
  }
 },
 "nbformat": 4,
 "nbformat_minor": 5
}
