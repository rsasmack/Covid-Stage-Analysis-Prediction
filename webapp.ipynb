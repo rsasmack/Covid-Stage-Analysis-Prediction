{
 "cells": [
  {
   "cell_type": "code",
   "execution_count": 1,
   "metadata": {},
   "outputs": [
    {
     "name": "stdout",
     "output_type": "stream",
     "text": [
      " * Serving Flask app \"__main__\" (lazy loading)\n",
      " * Environment: production\n",
      "   WARNING: This is a development server. Do not use it in a production deployment.\n",
      "   Use a production WSGI server instead.\n",
      " * Debug mode: off\n"
     ]
    },
    {
     "name": "stderr",
     "output_type": "stream",
     "text": [
      " * Running on http://127.0.0.1:5000/ (Press CTRL+C to quit)\n",
      "127.0.0.1 - - [11/Dec/2021 12:28:01] \"\u001b[37mGET / HTTP/1.1\u001b[0m\" 200 -\n",
      "127.0.0.1 - - [11/Dec/2021 12:28:01] \"\u001b[37mGET /static/COVID-19%20Audio%20Clip%202.mp3 HTTP/1.1\u001b[0m\" 206 -\n",
      "127.0.0.1 - - [11/Dec/2021 12:28:16] \"\u001b[37mGET /index.html HTTP/1.1\u001b[0m\" 200 -\n",
      "127.0.0.1 - - [11/Dec/2021 12:31:43] \"\u001b[37mPOST /index.html HTTP/1.1\u001b[0m\" 200 -\n",
      "127.0.0.1 - - [11/Dec/2021 12:32:50] \"\u001b[37mGET /index.html HTTP/1.1\u001b[0m\" 200 -\n",
      "127.0.0.1 - - [11/Dec/2021 12:33:24] \"\u001b[37mPOST /index.html HTTP/1.1\u001b[0m\" 200 -\n",
      "127.0.0.1 - - [11/Dec/2021 12:33:26] \"\u001b[37mGET /index.html HTTP/1.1\u001b[0m\" 200 -\n",
      "127.0.0.1 - - [11/Dec/2021 12:33:40] \"\u001b[37mPOST /index.html HTTP/1.1\u001b[0m\" 200 -\n",
      "127.0.0.1 - - [11/Dec/2021 12:33:41] \"\u001b[37mGET /index.html HTTP/1.1\u001b[0m\" 200 -\n"
     ]
    }
   ],
   "source": [
    "import numpy as np\n",
    "\n",
    "from flask import Flask,render_template,request,redirect\n",
    "import os\n",
    "import pickle\n",
    "\n",
    "app=Flask(__name__) #constructor\n",
    "model = pickle.load(open('model.pkl', 'rb'))\n",
    "\n",
    "@app.route(\"/\") #root path\n",
    "def show():\n",
    "    return render_template('home.html')\n",
    "\n",
    "\n",
    "@app.route(\"/index.html\",methods=[\"POST\",\"GET\"])\n",
    "def home():\n",
    "        if request.method==\"POST\":\n",
    "            a=int(request.form['fever'])\n",
    "            b=int(request.form[\"cough\"])\n",
    "            c=int(request.form[\"fatigue\"])\n",
    "            d=int(request.form[\"loss_smell_taste\"])\n",
    "            e=int(request.form[\"nassal_congestion\"])\n",
    "            f=int(request.form[\"red_eyes\"])\n",
    "            g=int(request.form[\"sore_throat\"])\n",
    "            h=int(request.form[\"headache\"])\n",
    "            i=int(request.form[\"muscle_pain\"])\n",
    "            j=int(request.form[\"skin_rash\"])\n",
    "            k=int(request.form[\"vomiting\"])\n",
    "            l=int(request.form[\"diarrhea\"])\n",
    "            m=int(request.form[\"breathing_issue\"])\n",
    "            n=int(request.form[\"loss_apetite\"])\n",
    "            o=int(request.form[\"chest_pain\"])\n",
    "            p=int(request.form[\"age\"])\n",
    "            yy = model.predict([[a,b,c,d,e,f,g,h,i,j,k,l,m,n,o,p]])\n",
    "            if yy[0]==0:\n",
    "                output=\"No worries you are covid negative\"\n",
    "                return render_template('result.html',prediction_text='{}'.format(output))\n",
    "            elif yy[0]==1:\n",
    "                output=\"You can go for checkup\"\n",
    "                return render_template('result.html',prediction_text='{}'.format(output))\n",
    "            elif yy[0]==2:\n",
    "                output=\"It's serious you should go for checkup\"\n",
    "                return render_template('result.html',prediction_text='{}'.format(output))\n",
    "            elif yy[0]==3:\n",
    "                output=\"It is very serious you should immediately go for checkup\"\n",
    "                return render_template('result.html',prediction_text='{}'.format(output))\n",
    "             \n",
    "            \n",
    "        return render_template('index.html')\n",
    "            \n",
    "@app.route(\"/post\")\n",
    "def post():\n",
    "    return \"successfull\"\n",
    "\n",
    "if __name__=='__main__': #main function \n",
    "    app.run()\n"
   ]
  },
  {
   "cell_type": "code",
   "execution_count": null,
   "metadata": {},
   "outputs": [],
   "source": []
  }
 ],
 "metadata": {
  "kernelspec": {
   "display_name": "Python 3 (ipykernel)",
   "language": "python",
   "name": "python3"
  },
  "language_info": {
   "codemirror_mode": {
    "name": "ipython",
    "version": 3
   },
   "file_extension": ".py",
   "mimetype": "text/x-python",
   "name": "python",
   "nbconvert_exporter": "python",
   "pygments_lexer": "ipython3",
   "version": "3.7.5"
  }
 },
 "nbformat": 4,
 "nbformat_minor": 4
}
